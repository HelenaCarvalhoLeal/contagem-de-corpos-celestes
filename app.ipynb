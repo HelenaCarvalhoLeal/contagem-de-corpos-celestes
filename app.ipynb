{
 "cells": [
  {
   "cell_type": "code",
   "execution_count": 3,
   "metadata": {},
   "outputs": [],
   "source": [
    "import pandas as pd\n",
    "import numpy as np\n",
    "import matplotlib.pyplot as plt\n",
    "from skimage import io\n",
    "from skimage.transform import hough_circle, hough_circle_peaks\n",
    "from skimage.filters import sobel\n",
    "from skimage.morphology import binary_closing, binary_opening\n",
    "from skimage import color"
   ]
  },
  {
   "cell_type": "markdown",
   "metadata": {},
   "source": [
    "## Armazena as contagens manuais feitas por Helena e Rafael em um Dataframe "
   ]
  },
  {
   "cell_type": "code",
   "execution_count": 4,
   "metadata": {},
   "outputs": [
    {
     "name": "stdout",
     "output_type": "stream",
     "text": [
      "      imagem  helena  rafael\n",
      "0  imagem_01       5       5\n",
      "1  imagem_02       4       4\n",
      "2  imagem_03       6       5\n",
      "3  imagem_04       6       5\n",
      "4  imagem_05      10       9\n",
      "5  imagem_06       9       8\n",
      "6  imagem_07       6       6\n",
      "7  imagem_08       5       5\n",
      "8  imagem_09       8       8\n",
      "9  imagem_10       5       5\n"
     ]
    }
   ],
   "source": [
    "contagem_manual = [\n",
    "    {\n",
    "        'imagem': 'imagem_01',\n",
    "        'helena': 5,\n",
    "        'rafael': 5\n",
    "    },\n",
    "    {\n",
    "        'imagem': 'imagem_02',\n",
    "        'helena': 4,\n",
    "        'rafael': 4\n",
    "    },\n",
    "    {\n",
    "        'imagem': 'imagem_03',\n",
    "        'helena': 6,\n",
    "        'rafael': 5\n",
    "    },\n",
    "    {\n",
    "        'imagem': 'imagem_04',\n",
    "        'helena': 6,\n",
    "        'rafael': 5\n",
    "    },\n",
    "    {\n",
    "        'imagem': 'imagem_05',\n",
    "        'helena': 10,\n",
    "        'rafael': 9\n",
    "    },\n",
    "    {\n",
    "        'imagem': 'imagem_06',\n",
    "        'helena': 9,\n",
    "        'rafael': 8\n",
    "    },\n",
    "    {\n",
    "        'imagem': 'imagem_07',\n",
    "        'helena': 6,\n",
    "        'rafael': 6\n",
    "    },\n",
    "    {\n",
    "        'imagem': 'imagem_08',\n",
    "        'helena': 5,\n",
    "        'rafael': 5\n",
    "    },\n",
    "    {\n",
    "        'imagem': 'imagem_09',\n",
    "        'helena': 8,\n",
    "        'rafael': 8\n",
    "    },\n",
    "    {\n",
    "        'imagem': 'imagem_10',\n",
    "        'helena': 5,\n",
    "        'rafael': 5\n",
    "    }\n",
    "]\n",
    "\n",
    "contagem_manual_df = pd.DataFrame(contagem_manual)\n",
    "print(contagem_manual_df)"
   ]
  },
  {
   "cell_type": "markdown",
   "metadata": {},
   "source": [
    "## Carrega os arquivos (imagens) da pasta Data "
   ]
  },
  {
   "cell_type": "code",
   "execution_count": null,
   "metadata": {},
   "outputs": [],
   "source": [
    "imagem_01 = io.imread('Data/imagem-01.jpg')\n",
    "imagem_02 = io.imread('Data/imagem-02.jpg')\n",
    "imagem_03 = io.imread('Data/imagem-03.jpg')\n",
    "imagem_04 = io.imread('Data/imagem-04.jpg')\n",
    "imagem_05 = io.imread('Data/imagem-05.jpg')\n",
    "imagem_06 = io.imread('Data/imagem-06.jpg')\n",
    "imagem_07 = io.imread('Data/imagem-07.jpg')\n",
    "imagem_08 = io.imread('Data/imagem-08.jpg')\n",
    "imagem_09 = io.imread('Data/imagem-09.jpg')\n",
    "imagem_10 = io.imread('Data/imagem-10.jpg')"
   ]
  }
 ],
 "metadata": {
  "kernelspec": {
   "display_name": "Python 3",
   "language": "python",
   "name": "python3"
  },
  "language_info": {
   "codemirror_mode": {
    "name": "ipython",
    "version": 3
   },
   "file_extension": ".py",
   "mimetype": "text/x-python",
   "name": "python",
   "nbconvert_exporter": "python",
   "pygments_lexer": "ipython3",
   "version": "3.10.2"
  }
 },
 "nbformat": 4,
 "nbformat_minor": 2
}
