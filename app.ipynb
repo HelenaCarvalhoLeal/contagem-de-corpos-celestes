{
 "cells": [
  {
   "cell_type": "code",
   "execution_count": 1,
   "metadata": {},
   "outputs": [],
   "source": [
    "import pandas as pd\n",
    "import numpy as np\n",
    "import matplotlib.pyplot as plt\n",
    "from skimage import io\n",
    "from skimage.transform import hough_circle, hough_circle_peaks\n",
    "from skimage.filters import sobel\n",
    "from skimage.morphology import binary_closing, binary_opening\n",
    "from skimage import color"
   ]
  },
  {
   "cell_type": "markdown",
   "metadata": {},
   "source": [
    "## Armazena as contagens manuais feitas por Helena e Rafael em um Dataframe "
   ]
  },
  {
   "cell_type": "code",
   "execution_count": 2,
   "metadata": {},
   "outputs": [
    {
     "name": "stdout",
     "output_type": "stream",
     "text": [
      "      imagem  helena  rafael\n",
      "0  imagem_01       5       5\n",
      "1  imagem_02       4       3\n",
      "2  imagem_03       6       5\n",
      "3  imagem_04       6       4\n",
      "4  imagem_05      10       8\n",
      "5  imagem_06       9       8\n",
      "6  imagem_07       6       6\n",
      "7  imagem_08       5       5\n",
      "8  imagem_09       8       8\n",
      "9  imagem_10       5       4\n"
     ]
    }
   ],
   "source": [
    "contagem_manual = [\n",
    "    {\n",
    "        'imagem': 'imagem_01',\n",
    "        'helena': 5,\n",
    "        'rafael': 5\n",
    "    },\n",
    "    {\n",
    "        'imagem': 'imagem_02',\n",
    "        'helena': 4,\n",
    "        'rafael': 3\n",
    "    },\n",
    "    {\n",
    "        'imagem': 'imagem_03',\n",
    "        'helena': 6,\n",
    "        'rafael': 5\n",
    "    },\n",
    "    {\n",
    "        'imagem': 'imagem_04',\n",
    "        'helena': 6,\n",
    "        'rafael': 4\n",
    "    },\n",
    "    {\n",
    "        'imagem': 'imagem_05',\n",
    "        'helena': 10,\n",
    "        'rafael': 8\n",
    "    },\n",
    "    {\n",
    "        'imagem': 'imagem_06',\n",
    "        'helena': 9,\n",
    "        'rafael': 8\n",
    "    },\n",
    "    {\n",
    "        'imagem': 'imagem_07',\n",
    "        'helena': 6,\n",
    "        'rafael': 6\n",
    "    },\n",
    "    {\n",
    "        'imagem': 'imagem_08',\n",
    "        'helena': 5,\n",
    "        'rafael': 5\n",
    "    },\n",
    "    {\n",
    "        'imagem': 'imagem_09',\n",
    "        'helena': 8,\n",
    "        'rafael': 8\n",
    "    },\n",
    "    {\n",
    "        'imagem': 'imagem_10',\n",
    "        'helena': 5,\n",
    "        'rafael': 4\n",
    "    }\n",
    "]\n",
    "\n",
    "contagem_manual_df = pd.DataFrame(contagem_manual)\n",
    "print(contagem_manual_df)"
   ]
  },
  {
   "cell_type": "markdown",
   "metadata": {},
   "source": [
    "## Carrega os arquivos (imagens) da pasta Data "
   ]
  },
  {
   "cell_type": "code",
   "execution_count": 3,
   "metadata": {},
   "outputs": [],
   "source": [
    "imagem_01 = io.imread('Data/imagem-01.jpg')\n",
    "imagem_02 = io.imread('Data/imagem-02.jpg')\n",
    "imagem_03 = io.imread('Data/imagem-03.jpg')\n",
    "imagem_04 = io.imread('Data/imagem-04.jpg')\n",
    "imagem_05 = io.imread('Data/imagem-05.jpg')\n",
    "imagem_06 = io.imread('Data/imagem-06.jpg')\n",
    "imagem_07 = io.imread('Data/imagem-07.jpg')\n",
    "imagem_08 = io.imread('Data/imagem-08.jpg')\n",
    "imagem_09 = io.imread('Data/imagem-09.jpg')\n",
    "imagem_10 = io.imread('Data/imagem-10.jpg')"
   ]
  },
  {
   "cell_type": "markdown",
   "metadata": {},
   "source": [
    "## Armazena as imagens em uma lista"
   ]
  },
  {
   "cell_type": "code",
   "execution_count": 4,
   "metadata": {},
   "outputs": [],
   "source": [
    "imagens_list = [\n",
    "    imagem_01,\n",
    "    imagem_02,\n",
    "    imagem_03,\n",
    "    imagem_04,\n",
    "    imagem_05,\n",
    "    imagem_06,\n",
    "    imagem_07,\n",
    "    imagem_08,\n",
    "    imagem_09,\n",
    "    imagem_10\n",
    "]"
   ]
  },
  {
   "cell_type": "markdown",
   "metadata": {},
   "source": [
    "## Converte as imagens em escala de cinza"
   ]
  },
  {
   "cell_type": "code",
   "execution_count": 5,
   "metadata": {},
   "outputs": [],
   "source": [
    "# Lista que armazena as imagens em escala de cinza\n",
    "imagens_cinza_list = [color.rgb2gray(imagem) for imagem in imagens_list]"
   ]
  },
  {
   "cell_type": "markdown",
   "metadata": {},
   "source": [
    "## Binariza as imagens"
   ]
  },
  {
   "cell_type": "code",
   "execution_count": 6,
   "metadata": {},
   "outputs": [],
   "source": [
    "# Lista que armazena as imagens binárias\n",
    "imagens_binarias_list = []\n",
    "\n",
    "for imagem in imagens_cinza_list:\n",
    "    imagem_binaria = imagem.copy()\n",
    "\n",
    "    limiar = imagem.max()*(110/256)\n",
    "    imagem_binaria[imagem_binaria<=limiar]=0\n",
    "    imagem_binaria[imagem_binaria>0]=1\n",
    "\n",
    "    imagens_binarias_list.append(imagem_binaria)"
   ]
  },
  {
   "cell_type": "markdown",
   "metadata": {},
   "source": [
    "## Realiza operações de abertura e fechamento"
   ]
  },
  {
   "cell_type": "code",
   "execution_count": 7,
   "metadata": {},
   "outputs": [],
   "source": [
    "# Lista que armazena as imagens refinadas com as operações morfológicas\n",
    "imagens_refinadas_list = []\n",
    "\n",
    "for imagem in imagens_binarias_list:\n",
    "    imagem_refinada = imagem.copy()\n",
    "\n",
    "    imagem_refinada = binary_opening(imagem_refinada)\n",
    "    imagem_refinada = binary_closing(imagem_refinada)\n",
    "\n",
    "    imagens_refinadas_list.append(imagem_refinada)"
   ]
  },
  {
   "cell_type": "markdown",
   "metadata": {},
   "source": [
    "## Aplica Sobel para detectar as bordas"
   ]
  },
  {
   "cell_type": "code",
   "execution_count": 8,
   "metadata": {},
   "outputs": [],
   "source": [
    "bordas_list = [sobel(imagem) for imagem in imagens_refinadas_list]"
   ]
  }
 ],
 "metadata": {
  "kernelspec": {
   "display_name": "Python 3",
   "language": "python",
   "name": "python3"
  },
  "language_info": {
   "codemirror_mode": {
    "name": "ipython",
    "version": 3
   },
   "file_extension": ".py",
   "mimetype": "text/x-python",
   "name": "python",
   "nbconvert_exporter": "python",
   "pygments_lexer": "ipython3",
   "version": "3.10.2"
  }
 },
 "nbformat": 4,
 "nbformat_minor": 2
}
